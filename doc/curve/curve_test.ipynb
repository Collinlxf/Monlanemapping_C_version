{
 "cells": [
  {
   "cell_type": "code",
   "execution_count": 5,
   "metadata": {},
   "outputs": [
    {
     "name": "stdout",
     "output_type": "stream",
     "text": [
      "[[ 2.          4.        ]\n",
      " [ 2.11328182  4.69324974]\n",
      " [ 2.24143461  5.50167663]\n",
      " [ 2.38270885  6.41303397]\n",
      " [ 2.53535501  7.41507508]\n",
      " [ 2.69762356  8.49555329]\n",
      " [ 2.86776498  9.6422219 ]\n",
      " [ 3.04402974 10.84283423]\n",
      " [ 3.22466832 12.08514361]\n",
      " [ 3.40793119 13.35690334]\n",
      " [ 3.59206881 14.64586674]\n",
      " [ 3.77533168 15.93978714]\n",
      " [ 3.95597026 17.22641785]\n",
      " [ 4.13223502 18.49351217]\n",
      " [ 4.30237644 19.72882344]\n",
      " [ 4.46464499 20.92010497]\n",
      " [ 4.61729115 22.05511007]\n",
      " [ 4.75856539 23.12159207]\n",
      " [ 4.88671818 24.10730427]\n",
      " [ 5.         25.        ]]\n"
     ]
    }
   ],
   "source": [
    "from catmull_rom import CatmullRomSplineList\n",
    "import numpy as np\n",
    "\n",
    "ctrl_pts = np.array([[1.0,1.0],[2.0,4.0],[5.0,25.0],[6,36.0]])\n",
    "smooth = CatmullRomSplineList(ctrl_pts, 0.5)\n",
    "print(smooth.get_points(20))"
   ]
  }
 ],
 "metadata": {
  "kernelspec": {
   "display_name": "ml_env",
   "language": "python",
   "name": "python3"
  },
  "language_info": {
   "codemirror_mode": {
    "name": "ipython",
    "version": 3
   },
   "file_extension": ".py",
   "mimetype": "text/x-python",
   "name": "python",
   "nbconvert_exporter": "python",
   "pygments_lexer": "ipython3",
   "version": "3.8.19"
  }
 },
 "nbformat": 4,
 "nbformat_minor": 2
}
